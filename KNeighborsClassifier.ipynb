{
  "nbformat": 4,
  "nbformat_minor": 0,
  "metadata": {
    "colab": {
      "name": "KNeighborsClassifier.ipynb",
      "provenance": []
    },
    "kernelspec": {
      "name": "python3",
      "display_name": "Python 3"
    }
  },
  "cells": [
    {
      "cell_type": "code",
      "metadata": {
        "id": "aqJUYuinezwY"
      },
      "source": [
        "import numpy as np\r\n",
        "import pandas as pd\r\n",
        "import os, pickle\r\n",
        "from sklearn import datasets, preprocessing, model_selection, neighbors"
      ],
      "execution_count": 24,
      "outputs": []
    },
    {
      "cell_type": "code",
      "metadata": {
        "id": "iu7LEBn1kj6x"
      },
      "source": [
        "df = datasets.load_breast_cancer()\r\n",
        "#df = df[ ['radius error', 'texture error', 'perimeter error', 'area error', 'worst concave points','worst symmetry'] ]\r\n",
        "X = df.data[:,:]\r\n",
        "X = pd.DataFrame(X)\r\n",
        "#X.head()\r\n",
        "y = df.target\r\n",
        "X_train, X_test, y_train, y_test = model_selection.train_test_split(X, y, test_size=0.2)\r\n"
      ],
      "execution_count": 25,
      "outputs": []
    },
    {
      "cell_type": "code",
      "metadata": {
        "colab": {
          "base_uri": "https://localhost:8080/"
        },
        "id": "Pu-KDJZU1ftg",
        "outputId": "92813b93-91cc-4607-cb59-f4c5fba35755"
      },
      "source": [
        "model = None\r\n",
        "if os.path.exists('KNeighborsClassifier.pickle'):\r\n",
        "  saved_pickle = open('KNeighborsClassifier.pickle', 'rb')\r\n",
        "  model = pickle.load(saved_pickle)\r\n",
        "else:\r\n",
        "  with open('KNeighborsClassifier.pickle', 'wb') as f:\r\n",
        "    model = neighbors.KNeighborsClassifier()\r\n",
        "    model.fit(X_train, y_train)        \r\n",
        "    pickle.dump(model, f)\r\n",
        "\r\n",
        "accuracy = model.score(X_test, y_test)\r\n",
        "accuracy"
      ],
      "execution_count": 30,
      "outputs": [
        {
          "output_type": "execute_result",
          "data": {
            "text/plain": [
              "0.956140350877193"
            ]
          },
          "metadata": {
            "tags": []
          },
          "execution_count": 30
        }
      ]
    }
  ]
}