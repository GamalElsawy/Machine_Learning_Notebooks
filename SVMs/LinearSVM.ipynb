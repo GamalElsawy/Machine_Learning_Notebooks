{
  "nbformat": 4,
  "nbformat_minor": 0,
  "metadata": {
    "colab": {
      "name": "LinearSVM.ipynb",
      "provenance": []
    },
    "kernelspec": {
      "name": "python3",
      "display_name": "Python 3"
    }
  },
  "cells": [
    {
      "cell_type": "code",
      "metadata": {
        "id": "3YuQzAYFpTwX"
      },
      "source": [
        "import numpy as np\r\n",
        "import pandas as pd\r\n",
        "import os, pickle\r\n",
        "from sklearn import svm, model_selection"
      ],
      "execution_count": 85,
      "outputs": []
    },
    {
      "cell_type": "code",
      "metadata": {
        "colab": {
          "base_uri": "https://localhost:8080/"
        },
        "id": "w1L7cg4cx5ci",
        "outputId": "d58b0b13-392c-4d2c-cd42-d174e8f57ec1"
      },
      "source": [
        "df = pd.read_csv('/content/breast-cancer-wisconsin.data')\r\n",
        "df.replace('?', -99999, inplace=True)\r\n",
        "df.drop(['id'], 1, inplace=True)\r\n",
        "print(df.head())\r\n",
        "X = np.array(df.drop(['class'], 1))\r\n",
        "y = np.array(df['class'])\r\n",
        "X_train, X_test, y_train, y_test = model_selection.train_test_split(X, y, test_size=0.25)"
      ],
      "execution_count": 86,
      "outputs": [
        {
          "output_type": "stream",
          "text": [
            "   clump_thickness  unif_cell_size  ...  mitoses  class\n",
            "0                5               1  ...        1      2\n",
            "1                5               4  ...        1      2\n",
            "2                3               1  ...        1      2\n",
            "3                6               8  ...        1      2\n",
            "4                4               1  ...        1      2\n",
            "\n",
            "[5 rows x 10 columns]\n"
          ],
          "name": "stdout"
        }
      ]
    },
    {
      "cell_type": "code",
      "metadata": {
        "colab": {
          "base_uri": "https://localhost:8080/"
        },
        "id": "0w-OOPvy0kTx",
        "outputId": "6b0680ec-4c35-4373-df3e-87dd185cb32b"
      },
      "source": [
        "model = None\r\n",
        "if os.path.exists('LinearSVM.pickle'):\r\n",
        "  saved_pickle = open('LinearSVM.pickle', 'rb')\r\n",
        "  model = pickle.load(saved_pickle)\r\n",
        "else:\r\n",
        "  model = svm.SVC()\r\n",
        "  model.fit(X_train, y_train)\r\n",
        "  with open('LinearSVM.pickle', 'wb') as f:\r\n",
        "    pickle.dump(model, f)\r\n",
        "accuracy = model.score(X_test, y_test)\r\n",
        "accuracy\r\n",
        "\r\n",
        "  \r\n"
      ],
      "execution_count": 87,
      "outputs": [
        {
          "output_type": "execute_result",
          "data": {
            "text/plain": [
              "0.6457142857142857"
            ]
          },
          "metadata": {
            "tags": []
          },
          "execution_count": 87
        }
      ]
    }
  ]
}