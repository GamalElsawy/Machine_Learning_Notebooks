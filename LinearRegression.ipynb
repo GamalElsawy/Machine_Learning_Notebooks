{
  "nbformat": 4,
  "nbformat_minor": 0,
  "metadata": {
    "colab": {
      "name": "LinearRegression.ipynb",
      "provenance": [],
      "collapsed_sections": []
    },
    "kernelspec": {
      "name": "python3",
      "display_name": "Python 3"
    }
  },
  "cells": [
    {
      "cell_type": "code",
      "metadata": {
        "id": "GukNOWZu5Y7a"
      },
      "source": [
        "import numpy as np\r\n",
        "import pandas as pd\r\n",
        "from sklearn import preprocessing, model_selection, svm, datasets\r\n",
        "from sklearn.linear_model import LinearRegression   \r\n",
        "from sklearn.utils import shuffle\r\n",
        "from sklearn.metrics import mean_squared_error  \r\n",
        "from statistics import mean\r\n",
        "import os, pickle"
      ],
      "execution_count": 55,
      "outputs": []
    },
    {
      "cell_type": "code",
      "metadata": {
        "id": "2CqieamRDEEb"
      },
      "source": [
        "iris = datasets.load_iris()\r\n",
        "X = iris.data[:,:]\r\n",
        "X = preprocessing.minmax_scale(X)\r\n",
        "y = iris.target\r\n",
        "X, y = shuffle(X, y)\r\n",
        "X_train, X_test, y_train, y_test = model_selection.train_test_split(X, y, test_size=0.2)\r\n",
        "#print(len(X_train), len(X_test))"
      ],
      "execution_count": 52,
      "outputs": []
    },
    {
      "cell_type": "code",
      "metadata": {
        "id": "c46pQGq5pSvW"
      },
      "source": [
        "model = None\r\n",
        "if os.path.exists('Linear-Regression.pickle'):\r\n",
        "  saved_pickle = open('Linear-Regression.pickle', 'rb')\r\n",
        "  model = pickle.load(saved_pickle)\r\n",
        "else:\r\n",
        "  model = LinearRegression()\r\n",
        "  model.fit(X_train, y_train)\r\n",
        "  with open('Linear-Regression.pickle', 'wb') as f:\r\n",
        "    pickle.dump(model, f)\r\n"
      ],
      "execution_count": 53,
      "outputs": []
    },
    {
      "cell_type": "code",
      "metadata": {
        "id": "LK4kKC6i1AC0",
        "colab": {
          "base_uri": "https://localhost:8080/"
        },
        "outputId": "613017d4-6e8f-4737-cd30-257cc1fa1bd8"
      },
      "source": [
        "accuracy = model.score(X_test, y_test)\r\n",
        "print('Training Accuracy is:', np.round(accuracy*100, 1), '%')\r\n",
        "\r\n",
        "y_pred = model.predict(X_test)\r\n",
        "print('--------------------')\r\n",
        "mse = mean_squared_error(y_test, y_pred)\r\n",
        "print('Mean Squared Error is:', mse)"
      ],
      "execution_count": 54,
      "outputs": [
        {
          "output_type": "stream",
          "text": [
            "Training Accuracy is: 92.9 %\n",
            "--------------------\n",
            "Mean Squared Error is: 0.050555438589438804\n"
          ],
          "name": "stdout"
        }
      ]
    }
  ]
}